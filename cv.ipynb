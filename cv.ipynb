{
 "cells": [
  {
   "cell_type": "code",
   "execution_count": 12,
   "id": "09103145",
   "metadata": {},
   "outputs": [],
   "source": [
    "import pandas as pd\n",
    "import matplotlib.pyplot as plt\n",
    "import numpy as np\n",
    "import plotly.express as px\n",
    "import re\n",
    "from sklearn.preprocessing import LabelEncoder\n",
    "from sklearn.model_selection import train_test_split\n",
    "from sklearn.feature_extraction.text import TfidfVectorizer\n",
    "from scipy.sparse import hstack\n",
    "from sklearn.multiclass import OneVsRestClassifier\n",
    "from sklearn.neighbors import KNeighborsClassifier\n",
    "from sklearn import metrics\n",
    "import nltk"
   ]
  },
  {
   "cell_type": "code",
   "execution_count": 2,
   "id": "e4f4d851",
   "metadata": {},
   "outputs": [
    {
     "data": {
      "text/html": [
       "<div>\n",
       "<style scoped>\n",
       "    .dataframe tbody tr th:only-of-type {\n",
       "        vertical-align: middle;\n",
       "    }\n",
       "\n",
       "    .dataframe tbody tr th {\n",
       "        vertical-align: top;\n",
       "    }\n",
       "\n",
       "    .dataframe thead th {\n",
       "        text-align: right;\n",
       "    }\n",
       "</style>\n",
       "<table border=\"1\" class=\"dataframe\">\n",
       "  <thead>\n",
       "    <tr style=\"text-align: right;\">\n",
       "      <th></th>\n",
       "      <th>Category</th>\n",
       "      <th>Resume</th>\n",
       "    </tr>\n",
       "  </thead>\n",
       "  <tbody>\n",
       "    <tr>\n",
       "      <th>0</th>\n",
       "      <td>Data Science</td>\n",
       "      <td>Skills * Programming Languages: Python (pandas...</td>\n",
       "    </tr>\n",
       "    <tr>\n",
       "      <th>1</th>\n",
       "      <td>Data Science</td>\n",
       "      <td>Education Details \\r\\nMay 2013 to May 2017 B.E...</td>\n",
       "    </tr>\n",
       "    <tr>\n",
       "      <th>2</th>\n",
       "      <td>Data Science</td>\n",
       "      <td>Areas of Interest Deep Learning, Control Syste...</td>\n",
       "    </tr>\n",
       "    <tr>\n",
       "      <th>3</th>\n",
       "      <td>Data Science</td>\n",
       "      <td>Skills â¢ R â¢ Python â¢ SAP HANA â¢ Table...</td>\n",
       "    </tr>\n",
       "    <tr>\n",
       "      <th>4</th>\n",
       "      <td>Data Science</td>\n",
       "      <td>Education Details \\r\\n MCA   YMCAUST,  Faridab...</td>\n",
       "    </tr>\n",
       "  </tbody>\n",
       "</table>\n",
       "</div>"
      ],
      "text/plain": [
       "       Category                                             Resume\n",
       "0  Data Science  Skills * Programming Languages: Python (pandas...\n",
       "1  Data Science  Education Details \\r\\nMay 2013 to May 2017 B.E...\n",
       "2  Data Science  Areas of Interest Deep Learning, Control Syste...\n",
       "3  Data Science  Skills â¢ R â¢ Python â¢ SAP HANA â¢ Table...\n",
       "4  Data Science  Education Details \\r\\n MCA   YMCAUST,  Faridab..."
      ]
     },
     "execution_count": 2,
     "metadata": {},
     "output_type": "execute_result"
    }
   ],
   "source": [
    "df=pd.read_csv('Resume_Data.csv')\n",
    "df.head()"
   ]
  },
  {
   "cell_type": "code",
   "execution_count": 3,
   "id": "a6f98dd0",
   "metadata": {},
   "outputs": [],
   "source": [
    "import re\n",
    "def cleanResume(resumeText):\n",
    "    resumeText = re.sub('httpS+s*', ' ', resumeText)  # remove URLs\n",
    "    resumeText = re.sub('RT|cc', ' ', resumeText)  # remove RT and cc\n",
    "    resumeText = re.sub('#S+', '', resumeText)  # remove hashtags\n",
    "    resumeText = re.sub('@S+', '  ', resumeText)  # remove mentions\n",
    "    resumeText = re.sub('[%s]' % re.escape(\"\"\"!\"#$%&'()*+,-./:;<=>?@[]^_`{|}~\"\"\"), ' ', resumeText)  # remove punctuations\n",
    "    resumeText = re.sub(r'[^x00-x7f]',r' ', resumeText) \n",
    "    resumeText = re.sub('s+', ' ', resumeText)  # remove extra whitespace\n",
    "    return resumeText\n",
    "df['Cleaned_Resume'] = df.Resume.apply(lambda x: cleanResume(x))"
   ]
  },
  {
   "cell_type": "code",
   "execution_count": 4,
   "id": "659a446b",
   "metadata": {},
   "outputs": [
    {
     "data": {
      "text/html": [
       "<div>\n",
       "<style scoped>\n",
       "    .dataframe tbody tr th:only-of-type {\n",
       "        vertical-align: middle;\n",
       "    }\n",
       "\n",
       "    .dataframe tbody tr th {\n",
       "        vertical-align: top;\n",
       "    }\n",
       "\n",
       "    .dataframe thead th {\n",
       "        text-align: right;\n",
       "    }\n",
       "</style>\n",
       "<table border=\"1\" class=\"dataframe\">\n",
       "  <thead>\n",
       "    <tr style=\"text-align: right;\">\n",
       "      <th></th>\n",
       "      <th>Category</th>\n",
       "      <th>Resume</th>\n",
       "      <th>Cleaned_Resume</th>\n",
       "    </tr>\n",
       "  </thead>\n",
       "  <tbody>\n",
       "    <tr>\n",
       "      <th>0</th>\n",
       "      <td>Data Science</td>\n",
       "      <td>Skills * Programming Languages: Python (pandas...</td>\n",
       "      <td>Skill    Programming Language   P thon  panda ...</td>\n",
       "    </tr>\n",
       "    <tr>\n",
       "      <th>1</th>\n",
       "      <td>Data Science</td>\n",
       "      <td>Education Details \\r\\nMay 2013 to May 2017 B.E...</td>\n",
       "      <td>Education Detail    Ma  2013 to Ma  2017 B E  ...</td>\n",
       "    </tr>\n",
       "    <tr>\n",
       "      <th>2</th>\n",
       "      <td>Data Science</td>\n",
       "      <td>Areas of Interest Deep Learning, Control Syste...</td>\n",
       "      <td>Area  of Intere t Deep Learning  Control S  te...</td>\n",
       "    </tr>\n",
       "    <tr>\n",
       "      <th>3</th>\n",
       "      <td>Data Science</td>\n",
       "      <td>Skills â¢ R â¢ Python â¢ SAP HANA â¢ Table...</td>\n",
       "      <td>Skill      R     P thon     SAP HANA     Table...</td>\n",
       "    </tr>\n",
       "    <tr>\n",
       "      <th>4</th>\n",
       "      <td>Data Science</td>\n",
       "      <td>Education Details \\r\\n MCA   YMCAUST,  Faridab...</td>\n",
       "      <td>Education Detail     MCA   YMCAUST   Faridabad...</td>\n",
       "    </tr>\n",
       "  </tbody>\n",
       "</table>\n",
       "</div>"
      ],
      "text/plain": [
       "       Category                                             Resume  \\\n",
       "0  Data Science  Skills * Programming Languages: Python (pandas...   \n",
       "1  Data Science  Education Details \\r\\nMay 2013 to May 2017 B.E...   \n",
       "2  Data Science  Areas of Interest Deep Learning, Control Syste...   \n",
       "3  Data Science  Skills â¢ R â¢ Python â¢ SAP HANA â¢ Table...   \n",
       "4  Data Science  Education Details \\r\\n MCA   YMCAUST,  Faridab...   \n",
       "\n",
       "                                      Cleaned_Resume  \n",
       "0  Skill    Programming Language   P thon  panda ...  \n",
       "1  Education Detail    Ma  2013 to Ma  2017 B E  ...  \n",
       "2  Area  of Intere t Deep Learning  Control S  te...  \n",
       "3  Skill      R     P thon     SAP HANA     Table...  \n",
       "4  Education Detail     MCA   YMCAUST   Faridabad...  "
      ]
     },
     "execution_count": 4,
     "metadata": {},
     "output_type": "execute_result"
    }
   ],
   "source": [
    "df.head()"
   ]
  },
  {
   "cell_type": "code",
   "execution_count": 6,
   "id": "f4c0f694",
   "metadata": {},
   "outputs": [],
   "source": [
    "#getting the entire resume text\n"
   ]
  },
  {
   "cell_type": "code",
   "execution_count": 6,
   "id": "afc98380",
   "metadata": {},
   "outputs": [],
   "source": [
    "text=' '.join(df.Cleaned_Resume)"
   ]
  },
  {
   "cell_type": "code",
   "execution_count": 8,
   "id": "d1da5d03",
   "metadata": {},
   "outputs": [
    {
     "data": {
      "text/plain": [
       "'rance  TECHNOLOGY ASSISTED REVIEW  TAR  Technolog  A i ted Review  a i t  in a elerating the review proce  and run anal tic  and generate report      Core member of a team helped in developing automated review platform tool from  cratch for a i ting E di cover  domain  thi  tool implement  predictive coding and topic modelling b  automating review   re ulting in reduced labor co t  and time  pent during the law er  review     Under tand the end to end flow of the  olution  doing re earch and development for cla ification model   predictive anal  i  and mining of the information pre ent in text data  Worked on anal  ing the output  and preci ion monitoring for the entire tool     TAR a i t  in predictive coding  topic modelling from the evidence b  following EY  tandard   Developed the cla ifier model  in order to identif   red flag   and fraud related i ue      Tool    Technologie   P thon   cikit learn  tfidf  word2vec  doc2vec  co ine  imilarit   Na  ve Ba e   LDA  NMF for topic modelling  Vader and text blob for  entiment anal  i   Matplot lib  Tableau da hboard for reporting     MULTIPLE DATA SCIENCE AND ANALYTIC PROJECTS  USA CLIENTS   TEXT ANALYTICS   MOTOR VEHICLE CUSTOMER REVIEW DATA   Received cu tomer feedback  urve  data for pa t one  ear  Performed  entiment  Po itive  Negative   Neutral  and time  erie  anal  i  on cu tomer comment  acro  all 4 categorie      Created heat map of term  b   urve  categor  ba ed on frequenc  of word    Extracted Po itive and Negativ'"
      ]
     },
     "execution_count": 8,
     "metadata": {},
     "output_type": "execute_result"
    }
   ],
   "source": [
    "text[1000:2500]"
   ]
  },
  {
   "cell_type": "code",
   "execution_count": 13,
   "id": "45e6e51d",
   "metadata": {},
   "outputs": [
    {
     "data": {
      "text/plain": [
       "17910"
      ]
     },
     "execution_count": 13,
     "metadata": {},
     "output_type": "execute_result"
    }
   ],
   "source": [
    "tokenizer = nltk.tokenize.RegexpTokenizer('w+')\n",
    "#Tokenizing the text\n",
    "tokens = tokenizer.tokenize(corpus)\n",
    "len(tokens)"
   ]
  },
  {
   "cell_type": "code",
   "execution_count": 14,
   "id": "38b9fac7",
   "metadata": {},
   "outputs": [],
   "source": [
    "#now we shall make everything lowercase for uniformity\n",
    "#to hold the new lower case words\n",
    "words = []\n",
    "# Looping through the tokens and make them lower case\n",
    "for word in tokens:\n",
    "    words.append(word.lower())"
   ]
  },
  {
   "cell_type": "code",
   "execution_count": 15,
   "id": "f614b3c6",
   "metadata": {},
   "outputs": [],
   "source": [
    "#Stop words are generally the most common words in a language.\n",
    "#English stop words from nltk.\n",
    "stopwords = nltk.corpus.stopwords.words('english')\n",
    "words_new = []\n",
    "#Now we need to remove the stop words from the words variable\n",
    "#Appending to words_new all words that are in words but not in sw\n",
    "for word in words:\n",
    "    if word not in stopwords:\n",
    "        words_new.append(word)"
   ]
  },
  {
   "cell_type": "code",
   "execution_count": 16,
   "id": "b21cda00",
   "metadata": {},
   "outputs": [],
   "source": [
    "from nltk.stem import WordNetLemmatizer \n",
    "wn = WordNetLemmatizer() \n",
    "lem_words=[]\n",
    "for word in words_new:\n",
    "    word=wn.lemmatize(word)\n",
    "    lem_words.append(word)"
   ]
  },
  {
   "cell_type": "code",
   "execution_count": 17,
   "id": "599033a8",
   "metadata": {},
   "outputs": [
    {
     "name": "stdout",
     "output_type": "stream",
     "text": [
      "Number of words Lemmatized= 0\n",
      "Number of words not Lemmatized= 1832\n"
     ]
    }
   ],
   "source": [
    "same=0\n",
    "diff=0\n",
    "for i in range(0,1832):\n",
    "    if(lem_words[i]==words_new[i]):\n",
    "        same=same+1\n",
    "    elif(lem_words[i]!=words_new[i]):\n",
    "        diff=diff+1\n",
    "print('Number of words Lemmatized=', diff)\n",
    "print('Number of words not Lemmatized=', same)"
   ]
  },
  {
   "cell_type": "code",
   "execution_count": 18,
   "id": "b64c70fb",
   "metadata": {},
   "outputs": [
    {
     "data": {
      "image/png": "[encoded data removed]",
      "text/plain": [
       "<Figure size 1440x864 with 1 Axes>"
      ]
     },
     "metadata": {
      "needs_background": "light"
     },
     "output_type": "display_data"
    },
    {
     "data": {
      "text/plain": [
       "<AxesSubplot:xlabel='Samples', ylabel='Counts'>"
      ]
     },
     "execution_count": 18,
     "metadata": {},
     "output_type": "execute_result"
    }
   ],
   "source": [
    "#The frequency distribution of the words\n",
    "freq_dist = nltk.FreqDist(lem_words)\n",
    "#Frequency Distribution Plot\n",
    "plt.subplots(figsize=(20,12))\n",
    "freq_dist.plot(30)"
   ]
  },
  {
   "cell_type": "code",
   "execution_count": null,
   "id": "212bff9a",
   "metadata": {},
   "outputs": [],
   "source": []
  },
  {
   "cell_type": "code",
   "execution_count": null,
   "id": "109609de",
   "metadata": {},
   "outputs": [],
   "source": []
  },
  {
   "cell_type": "code",
   "execution_count": null,
   "id": "e6cf2ecf",
   "metadata": {},
   "outputs": [],
   "source": []
  },
  {
   "cell_type": "code",
   "execution_count": null,
   "id": "21ca45d2",
   "metadata": {},
   "outputs": [],
   "source": []
  },
  {
   "cell_type": "code",
   "execution_count": null,
   "id": "d0eaa535",
   "metadata": {},
   "outputs": [],
   "source": []
  },
  {
   "cell_type": "code",
   "execution_count": null,
   "id": "7f80bcda",
   "metadata": {},
   "outputs": [],
   "source": []
  },
  {
   "cell_type": "code",
   "execution_count": null,
   "id": "6dba5ec2",
   "metadata": {},
   "outputs": [],
   "source": []
  },
  {
   "cell_type": "code",
   "execution_count": null,
   "id": "f86a1d50",
   "metadata": {},
   "outputs": [],
   "source": []
  }
 ],
 "metadata": {
  "kernelspec": {
   "display_name": "Python 3",
   "language": "python",
   "name": "python3"
  },
  "language_info": {
   "codemirror_mode": {
    "name": "ipython",
    "version": 3
   },
   "file_extension": ".py",
   "mimetype": "text/x-python",
   "name": "python",
   "nbconvert_exporter": "python",
   "pygments_lexer": "ipython3",
   "version": "3.8.8"
  }
 },
 "nbformat": 4,
 "nbformat_minor": 5
}
